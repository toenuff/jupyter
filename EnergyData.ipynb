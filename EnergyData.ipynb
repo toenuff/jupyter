{
 "cells": [
  {
   "cell_type": "code",
   "execution_count": 5,
   "metadata": {
    "collapsed": false,
    "deletable": true,
    "editable": true
   },
   "outputs": [
    {
     "name": "stdout",
     "output_type": "stream",
     "text": [
      "Warning: if you don't want to start local H2O server, then use of `h2o.connect()` is preferred.\n",
      "Checking whether there is an H2O instance running at http://10.0.0.4:54321. connected.\n"
     ]
    },
    {
     "data": {
      "text/html": [
       "<div style=\"overflow:auto\"><table style=\"width:50%\"><tr><td>H2O cluster uptime:</td>\n",
       "<td>32 secs</td></tr>\n",
       "<tr><td>H2O cluster version:</td>\n",
       "<td>3.10.3.2</td></tr>\n",
       "<tr><td>H2O cluster version age:</td>\n",
       "<td>5 days </td></tr>\n",
       "<tr><td>H2O cluster name:</td>\n",
       "<td>sparkling-water-tome_1942130987</td></tr>\n",
       "<tr><td>H2O cluster total nodes:</td>\n",
       "<td>1</td></tr>\n",
       "<tr><td>H2O cluster free memory:</td>\n",
       "<td>868 Mb</td></tr>\n",
       "<tr><td>H2O cluster total cores:</td>\n",
       "<td>1</td></tr>\n",
       "<tr><td>H2O cluster allowed cores:</td>\n",
       "<td>1</td></tr>\n",
       "<tr><td>H2O cluster status:</td>\n",
       "<td>accepting new members, healthy</td></tr>\n",
       "<tr><td>H2O connection url:</td>\n",
       "<td>http://10.0.0.4:54321</td></tr>\n",
       "<tr><td>H2O connection proxy:</td>\n",
       "<td>None</td></tr>\n",
       "<tr><td>Python version:</td>\n",
       "<td>2.7.6 final</td></tr></table></div>"
      ],
      "text/plain": [
       "--------------------------  -------------------------------\n",
       "H2O cluster uptime:         32 secs\n",
       "H2O cluster version:        3.10.3.2\n",
       "H2O cluster version age:    5 days\n",
       "H2O cluster name:           sparkling-water-tome_1942130987\n",
       "H2O cluster total nodes:    1\n",
       "H2O cluster free memory:    868 Mb\n",
       "H2O cluster total cores:    1\n",
       "H2O cluster allowed cores:  1\n",
       "H2O cluster status:         accepting new members, healthy\n",
       "H2O connection url:         http://10.0.0.4:54321\n",
       "H2O connection proxy:\n",
       "Python version:             2.7.6 final\n",
       "--------------------------  -------------------------------"
      ]
     },
     "metadata": {},
     "output_type": "display_data"
    }
   ],
   "source": [
    "from pysparkling import *\n",
    "H2OContext.getOrCreate(sc)\n",
    "import h2o\n"
   ]
  },
  {
   "cell_type": "code",
   "execution_count": 75,
   "metadata": {
    "collapsed": false,
    "deletable": true,
    "editable": true
   },
   "outputs": [
    {
     "name": "stdout",
     "output_type": "stream",
     "text": [
      "Parse progress: |█████████████████████████████████████████████████████████| 100%\n"
     ]
    }
   ],
   "source": [
    "data = h2o.import_file(\n",
    "\"https://raw.githubusercontent.com/DarrenCook/h2o/bk/datasets/ENB2012_data.csv\")\n",
    "#factorsList = [\"X6\",\"X8\"]\n",
    "#data[factorsList] = data[factorsList].asfactor()\n",
    "\n",
    "train, test = data.split_frame([0.8])\n",
    "x = [\"X1\", \"X2\", \"X3\", \"X4\", \"X5\", \"X6\", \"X7\", \"X8\"]\n",
    "y = \"Y2\" # Or \"Y1\""
   ]
  },
  {
   "cell_type": "code",
   "execution_count": 76,
   "metadata": {
    "collapsed": false,
    "deletable": true,
    "editable": true
   },
   "outputs": [
    {
     "data": {
      "image/png": "[encoded data removed]",
      "text/plain": [
       "<matplotlib.figure.Figure at 0x7ff836e2cfd0>"
      ]
     },
     "metadata": {},
     "output_type": "display_data"
    }
   ],
   "source": [
    "import pandas as pd\n",
    "import matplotlib.pyplot as plt\n",
    "\n",
    "res = train[x].cor(train[y]).as_data_frame()\n",
    "res.index = x\n",
    "res.plot.barh()\n",
    "plt.show()\n",
    "\n",
    "# Shows correlations\n",
    "# X2 and X1 strong negative correlations\n",
    "# X4 and X5 also strong neg correlations\n",
    "# X4 and X2 strong pos correlations\n"
   ]
  },
  {
   "cell_type": "code",
   "execution_count": 78,
   "metadata": {
    "collapsed": false,
    "deletable": true,
    "editable": true
   },
   "outputs": [
    {
     "data": {
      "text/plain": [
       "0.9755938761988913"
      ]
     },
     "execution_count": 78,
     "metadata": {},
     "output_type": "execute_result"
    }
   ],
   "source": [
    "train[\"Y2\"].cor(train[\"Y1\"])\n",
    "# Strong correlation of Y2 and Y1 - we are using Y2 through examples b/c it's\n",
    "# supposed to be harder to predict\n"
   ]
  },
  {
   "cell_type": "code",
   "execution_count": 93,
   "metadata": {
    "collapsed": false,
    "deletable": true,
    "editable": true
   },
   "outputs": [
    {
     "data": {
      "image/png": "[encoded data removed]",
      "text/plain": [
       "<matplotlib.figure.Figure at 0x7ff8369dfd10>"
      ]
     },
     "metadata": {},
     "output_type": "display_data"
    },
    {
     "data": {
      "image/png": "[encoded data removed]",
      "text/plain": [
       "<matplotlib.figure.Figure at 0x7ff836734650>"
      ]
     },
     "metadata": {},
     "output_type": "display_data"
    },
    {
     "data": {
      "image/png": "[encoded data removed]",
      "text/plain": [
       "<matplotlib.figure.Figure at 0x7ff836936510>"
      ]
     },
     "metadata": {},
     "output_type": "display_data"
    },
    {
     "data": {
      "image/png": "[encoded data removed]",
      "text/plain": [
       "<matplotlib.figure.Figure at 0x7ff836b66cd0>"
      ]
     },
     "metadata": {},
     "output_type": "display_data"
    },
    {
     "data": {
      "image/png": "[encoded data removed]",
      "text/plain": [
       "<matplotlib.figure.Figure at 0x7ff836e29dd0>"
      ]
     },
     "metadata": {},
     "output_type": "display_data"
    },
    {
     "data": {
      "image/png": "[encoded data removed]",
      "text/plain": [
       "<matplotlib.figure.Figure at 0x7ff836be0e90>"
      ]
     },
     "metadata": {},
     "output_type": "display_data"
    },
    {
     "data": {
      "image/png": "[encoded data removed]",
      "text/plain": [
       "<matplotlib.figure.Figure at 0x7ff836a05bd0>"
      ]
     },
     "metadata": {},
     "output_type": "display_data"
    },
    {
     "data": {
      "image/png": "[encoded data removed]",
      "text/plain": [
       "<matplotlib.figure.Figure at 0x7ff836959d90>"
      ]
     },
     "metadata": {},
     "output_type": "display_data"
    },
    {
     "data": {
      "image/png": "[encoded data removed]",
      "text/plain": [
       "<matplotlib.figure.Figure at 0x7ff8365f2c90>"
      ]
     },
     "metadata": {},
     "output_type": "display_data"
    },
    {
     "data": {
      "image/png": "[encoded data removed]",
      "text/plain": [
       "<matplotlib.figure.Figure at 0x7ff836871a50>"
      ]
     },
     "metadata": {},
     "output_type": "display_data"
    }
   ],
   "source": [
    "for col in train.col_names:\n",
    "    t= train[col].hist(breaks = 30)"
   ]
  },
  {
   "cell_type": "markdown",
   "metadata": {
    "deletable": true,
    "editable": true
   },
   "source": [
    "## Default Random Forest"
   ]
  },
  {
   "cell_type": "code",
   "execution_count": 97,
   "metadata": {
    "collapsed": false,
    "deletable": true,
    "editable": true
   },
   "outputs": [
    {
     "name": "stdout",
     "output_type": "stream",
     "text": [
      "drf Model Build progress: |███████████████████████████████████████████████| 100%\n",
      "Model Details\n",
      "=============\n",
      "H2ORandomForestEstimator :  Distributed Random Forest\n",
      "Model Key:  RF_defaults\n",
      "\n",
      "\n",
      "ModelMetricsRegression: drf\n",
      "** Reported on train data. **\n",
      "\n",
      "MSE: 3.2046833238\n",
      "RMSE: 1.79016293219\n",
      "MAE: 1.19341068742\n",
      "RMSLE: 0.0546639286854\n",
      "Mean Residual Deviance: 3.2046833238\n",
      "\n",
      "ModelMetricsRegression: drf\n",
      "** Reported on cross-validation data. **\n",
      "\n",
      "MSE: 3.02478879702\n",
      "RMSE: 1.73919199544\n",
      "MAE: 1.1696766441\n",
      "RMSLE: 0.0530697467059\n",
      "Mean Residual Deviance: 3.02478879702\n",
      "Cross-Validation Metrics Summary: \n"
     ]
    },
    {
     "data": {
      "text/html": [
       "<div style=\"overflow:auto\"><table style=\"width:50%\"><tr><td><b></b></td>\n",
       "<td><b>mean</b></td>\n",
       "<td><b>sd</b></td>\n",
       "<td><b>cv_1_valid</b></td>\n",
       "<td><b>cv_2_valid</b></td>\n",
       "<td><b>cv_3_valid</b></td>\n",
       "<td><b>cv_4_valid</b></td>\n",
       "<td><b>cv_5_valid</b></td>\n",
       "<td><b>cv_6_valid</b></td>\n",
       "<td><b>cv_7_valid</b></td>\n",
       "<td><b>cv_8_valid</b></td>\n",
       "<td><b>cv_9_valid</b></td>\n",
       "<td><b>cv_10_valid</b></td></tr>\n",
       "<tr><td>mae</td>\n",
       "<td>1.1689769</td>\n",
       "<td>0.1333494</td>\n",
       "<td>1.2126471</td>\n",
       "<td>1.5194851</td>\n",
       "<td>1.1900548</td>\n",
       "<td>1.360929</td>\n",
       "<td>0.8572084</td>\n",
       "<td>1.1139668</td>\n",
       "<td>1.3262506</td>\n",
       "<td>1.0365546</td>\n",
       "<td>0.9471604</td>\n",
       "<td>1.1255122</td></tr>\n",
       "<tr><td>mse</td>\n",
       "<td>3.0175781</td>\n",
       "<td>0.6353369</td>\n",
       "<td>3.527199</td>\n",
       "<td>4.8041434</td>\n",
       "<td>2.7864358</td>\n",
       "<td>3.69422</td>\n",
       "<td>1.7331219</td>\n",
       "<td>2.949938</td>\n",
       "<td>3.7719514</td>\n",
       "<td>2.4648893</td>\n",
       "<td>1.8249302</td>\n",
       "<td>2.6189523</td></tr>\n",
       "<tr><td>r2</td>\n",
       "<td>0.9668092</td>\n",
       "<td>0.0055546</td>\n",
       "<td>0.9613699</td>\n",
       "<td>0.9521972</td>\n",
       "<td>0.9659195</td>\n",
       "<td>0.9602233</td>\n",
       "<td>0.9790003</td>\n",
       "<td>0.9686250</td>\n",
       "<td>0.9603581</td>\n",
       "<td>0.9734920</td>\n",
       "<td>0.9721643</td>\n",
       "<td>0.9747423</td></tr>\n",
       "<tr><td>residual_deviance</td>\n",
       "<td>3.0175781</td>\n",
       "<td>0.6353369</td>\n",
       "<td>3.527199</td>\n",
       "<td>4.8041434</td>\n",
       "<td>2.7864358</td>\n",
       "<td>3.69422</td>\n",
       "<td>1.7331219</td>\n",
       "<td>2.949938</td>\n",
       "<td>3.7719514</td>\n",
       "<td>2.4648893</td>\n",
       "<td>1.8249302</td>\n",
       "<td>2.6189523</td></tr>\n",
       "<tr><td>rmse</td>\n",
       "<td>1.7176602</td>\n",
       "<td>0.1833327</td>\n",
       "<td>1.878084</td>\n",
       "<td>2.1918356</td>\n",
       "<td>1.669262</td>\n",
       "<td>1.9220355</td>\n",
       "<td>1.3164809</td>\n",
       "<td>1.7175384</td>\n",
       "<td>1.9421513</td>\n",
       "<td>1.5699966</td>\n",
       "<td>1.3508998</td>\n",
       "<td>1.6183177</td></tr>\n",
       "<tr><td>rmsle</td>\n",
       "<td>0.0527714</td>\n",
       "<td>0.0040062</td>\n",
       "<td>0.0529982</td>\n",
       "<td>0.0626018</td>\n",
       "<td>0.0528679</td>\n",
       "<td>0.0601758</td>\n",
       "<td>0.0474910</td>\n",
       "<td>0.0524842</td>\n",
       "<td>0.0578696</td>\n",
       "<td>0.0471006</td>\n",
       "<td>0.0440480</td>\n",
       "<td>0.0500765</td></tr></table></div>"
      ],
      "text/plain": [
       "                   mean       sd          cv_1_valid    cv_2_valid    cv_3_valid    cv_4_valid    cv_5_valid    cv_6_valid    cv_7_valid    cv_8_valid    cv_9_valid    cv_10_valid\n",
       "-----------------  ---------  ----------  ------------  ------------  ------------  ------------  ------------  ------------  ------------  ------------  ------------  -------------\n",
       "mae                1.16898    0.133349    1.21265       1.51949       1.19005       1.36093       0.857208      1.11397       1.32625       1.03655       0.94716       1.12551\n",
       "mse                3.01758    0.635337    3.5272        4.80414       2.78644       3.69422       1.73312       2.94994       3.77195       2.46489       1.82493       2.61895\n",
       "r2                 0.966809   0.00555459  0.96137       0.952197      0.96592       0.960223      0.979         0.968625      0.960358      0.973492      0.972164      0.974742\n",
       "residual_deviance  3.01758    0.635337    3.5272        4.80414       2.78644       3.69422       1.73312       2.94994       3.77195       2.46489       1.82493       2.61895\n",
       "rmse               1.71766    0.183333    1.87808       2.19184       1.66926       1.92204       1.31648       1.71754       1.94215       1.57          1.3509        1.61832\n",
       "rmsle              0.0527714  0.00400623  0.0529982     0.0626018     0.0528679     0.0601758     0.047491      0.0524842     0.0578696     0.0471006     0.044048      0.0500765"
      ]
     },
     "metadata": {},
     "output_type": "display_data"
    },
    {
     "name": "stdout",
     "output_type": "stream",
     "text": [
      "Scoring History: \n"
     ]
    },
    {
     "data": {
      "text/html": [
       "<div style=\"overflow:auto\"><table style=\"width:50%\"><tr><td><b></b></td>\n",
       "<td><b>timestamp</b></td>\n",
       "<td><b>duration</b></td>\n",
       "<td><b>number_of_trees</b></td>\n",
       "<td><b>training_rmse</b></td>\n",
       "<td><b>training_mae</b></td>\n",
       "<td><b>training_deviance</b></td></tr>\n",
       "<tr><td></td>\n",
       "<td>2017-02-05 20:08:31</td>\n",
       "<td> 9.081 sec</td>\n",
       "<td>0.0</td>\n",
       "<td>nan</td>\n",
       "<td>nan</td>\n",
       "<td>nan</td></tr>\n",
       "<tr><td></td>\n",
       "<td>2017-02-05 20:08:31</td>\n",
       "<td> 9.102 sec</td>\n",
       "<td>1.0</td>\n",
       "<td>2.1914892</td>\n",
       "<td>1.4204916</td>\n",
       "<td>4.8026250</td></tr>\n",
       "<tr><td></td>\n",
       "<td>2017-02-05 20:08:31</td>\n",
       "<td> 9.111 sec</td>\n",
       "<td>2.0</td>\n",
       "<td>2.2309497</td>\n",
       "<td>1.3958318</td>\n",
       "<td>4.9771365</td></tr>\n",
       "<tr><td></td>\n",
       "<td>2017-02-05 20:08:31</td>\n",
       "<td> 9.130 sec</td>\n",
       "<td>3.0</td>\n",
       "<td>2.1099757</td>\n",
       "<td>1.3156516</td>\n",
       "<td>4.4519975</td></tr>\n",
       "<tr><td></td>\n",
       "<td>2017-02-05 20:08:31</td>\n",
       "<td> 9.138 sec</td>\n",
       "<td>4.0</td>\n",
       "<td>1.9611399</td>\n",
       "<td>1.2309152</td>\n",
       "<td>3.8460699</td></tr>\n",
       "<tr><td>---</td>\n",
       "<td>---</td>\n",
       "<td>---</td>\n",
       "<td>---</td>\n",
       "<td>---</td>\n",
       "<td>---</td>\n",
       "<td>---</td></tr>\n",
       "<tr><td></td>\n",
       "<td>2017-02-05 20:08:31</td>\n",
       "<td> 9.417 sec</td>\n",
       "<td>46.0</td>\n",
       "<td>1.7915407</td>\n",
       "<td>1.1942274</td>\n",
       "<td>3.2096179</td></tr>\n",
       "<tr><td></td>\n",
       "<td>2017-02-05 20:08:31</td>\n",
       "<td> 9.423 sec</td>\n",
       "<td>47.0</td>\n",
       "<td>1.7926357</td>\n",
       "<td>1.1938569</td>\n",
       "<td>3.2135426</td></tr>\n",
       "<tr><td></td>\n",
       "<td>2017-02-05 20:08:31</td>\n",
       "<td> 9.429 sec</td>\n",
       "<td>48.0</td>\n",
       "<td>1.7967745</td>\n",
       "<td>1.1998394</td>\n",
       "<td>3.2283985</td></tr>\n",
       "<tr><td></td>\n",
       "<td>2017-02-05 20:08:31</td>\n",
       "<td> 9.438 sec</td>\n",
       "<td>49.0</td>\n",
       "<td>1.7933622</td>\n",
       "<td>1.1989965</td>\n",
       "<td>3.2161481</td></tr>\n",
       "<tr><td></td>\n",
       "<td>2017-02-05 20:08:31</td>\n",
       "<td> 9.444 sec</td>\n",
       "<td>50.0</td>\n",
       "<td>1.7901629</td>\n",
       "<td>1.1934107</td>\n",
       "<td>3.2046833</td></tr></table></div>"
      ],
      "text/plain": [
       "     timestamp            duration    number_of_trees    training_rmse    training_mae    training_deviance\n",
       "---  -------------------  ----------  -----------------  ---------------  --------------  -------------------\n",
       "     2017-02-05 20:08:31  9.081 sec   0.0                nan              nan             nan\n",
       "     2017-02-05 20:08:31  9.102 sec   1.0                2.19148921376    1.42049161836   4.80262497402\n",
       "     2017-02-05 20:08:31  9.111 sec   2.0                2.23094969203    1.39583183933   4.97713652835\n",
       "     2017-02-05 20:08:31  9.130 sec   3.0                2.10997571814    1.31565157707   4.45199753116\n",
       "     2017-02-05 20:08:31  9.138 sec   4.0                1.96113994037    1.23091517266   3.84606986572\n",
       "---  ---                  ---         ---                ---              ---             ---\n",
       "     2017-02-05 20:08:31  9.417 sec   46.0               1.79154065223    1.19422742363   3.2096179086\n",
       "     2017-02-05 20:08:31  9.423 sec   47.0               1.79263566098    1.19385691618   3.21354261302\n",
       "     2017-02-05 20:08:31  9.429 sec   48.0               1.79677448419    1.19983943247   3.22839854702\n",
       "     2017-02-05 20:08:31  9.438 sec   49.0               1.7933622359     1.1989964531    3.21614810917\n",
       "     2017-02-05 20:08:31  9.444 sec   50.0               1.79016293219    1.19341068742   3.2046833238"
      ]
     },
     "metadata": {},
     "output_type": "display_data"
    },
    {
     "name": "stdout",
     "output_type": "stream",
     "text": [
      "\n",
      "See the whole table with table.as_data_frame()\n",
      "Variable Importances: \n"
     ]
    },
    {
     "data": {
      "text/html": [
       "<div style=\"overflow:auto\"><table style=\"width:50%\"><tr><td><b>variable</b></td>\n",
       "<td><b>relative_importance</b></td>\n",
       "<td><b>scaled_importance</b></td>\n",
       "<td><b>percentage</b></td></tr>\n",
       "<tr><td>X5</td>\n",
       "<td>759740.0</td>\n",
       "<td>1.0</td>\n",
       "<td>0.3171623</td></tr>\n",
       "<tr><td>X1</td>\n",
       "<td>737309.9375000</td>\n",
       "<td>0.9704767</td>\n",
       "<td>0.3077987</td></tr>\n",
       "<tr><td>X2</td>\n",
       "<td>399104.25</td>\n",
       "<td>0.5253169</td>\n",
       "<td>0.1666107</td></tr>\n",
       "<tr><td>X4</td>\n",
       "<td>321040.5937500</td>\n",
       "<td>0.4225664</td>\n",
       "<td>0.1340221</td></tr>\n",
       "<tr><td>X3</td>\n",
       "<td>89146.8281250</td>\n",
       "<td>0.1173386</td>\n",
       "<td>0.0372154</td></tr>\n",
       "<tr><td>X7</td>\n",
       "<td>58427.5390625</td>\n",
       "<td>0.0769047</td>\n",
       "<td>0.0243913</td></tr>\n",
       "<tr><td>X8</td>\n",
       "<td>22267.7949219</td>\n",
       "<td>0.0293098</td>\n",
       "<td>0.0092960</td></tr>\n",
       "<tr><td>X6</td>\n",
       "<td>8392.4550781</td>\n",
       "<td>0.0110465</td>\n",
       "<td>0.0035035</td></tr></table></div>"
      ],
      "text/plain": [
       "variable    relative_importance    scaled_importance    percentage\n",
       "----------  ---------------------  -------------------  ------------\n",
       "X5          759740                 1                    0.317162\n",
       "X1          737310                 0.970477             0.307799\n",
       "X2          399104                 0.525317             0.166611\n",
       "X4          321041                 0.422566             0.134022\n",
       "X3          89146.8                0.117339             0.0372154\n",
       "X7          58427.5                0.0769047            0.0243913\n",
       "X8          22267.8                0.0293098            0.00929595\n",
       "X6          8392.46                0.0110465            0.00350353"
      ]
     },
     "metadata": {},
     "output_type": "display_data"
    },
    {
     "data": {
      "text/plain": []
     },
     "execution_count": 97,
     "metadata": {},
     "output_type": "execute_result"
    }
   ],
   "source": [
    "factorsList = [\"X6\",\"X8\"]\n",
    "data[factorsList] = data[factorsList].asfactor()\n",
    "\n",
    "m = h2o.estimators.H2ORandomForestEstimator(model_id=\"RF_defaults\", nfolds=10)\n",
    "m.train(x, y, train)\n",
    "m"
   ]
  },
  {
   "cell_type": "code",
   "execution_count": 98,
   "metadata": {
    "collapsed": false,
    "deletable": true,
    "editable": true
   },
   "outputs": [
    {
     "name": "stdout",
     "output_type": "stream",
     "text": [
      "\n",
      "ModelMetricsRegression: drf\n",
      "** Reported on test data. **\n",
      "\n",
      "MSE: 3.04546261235\n",
      "RMSE: 1.74512538585\n",
      "MAE: 1.23325774009\n",
      "RMSLE: 0.0536497649511\n",
      "Mean Residual Deviance: 3.04546261235\n"
     ]
    },
    {
     "data": {
      "text/plain": []
     },
     "execution_count": 98,
     "metadata": {},
     "output_type": "execute_result"
    }
   ],
   "source": [
    "m.model_performance(test)\n"
   ]
  },
  {
   "cell_type": "markdown",
   "metadata": {
    "deletable": true,
    "editable": true
   },
   "source": [
    "## Cartesian Grid\n",
    "Caresian Grids give a way to test a selection of different parameters\n",
    "It basically brute force tries each combination"
   ]
  },
  {
   "cell_type": "code",
   "execution_count": 101,
   "metadata": {
    "collapsed": false,
    "deletable": true,
    "editable": true
   },
   "outputs": [
    {
     "name": "stdout",
     "output_type": "stream",
     "text": [
      "drf Grid Build progress: |████████████████████████████████████████████████| 100%\n"
     ]
    }
   ],
   "source": [
    "g = h2o.grid.H2OGridSearch(\n",
    "    h2o.estimators.H2ORandomForestEstimator(\n",
    "        nfolds=10\n",
    "    ),\n",
    "    hyper_params={\n",
    "        \"ntrees\": [50, 100, 120],\n",
    "        \"max_depth\": [40, 60],\n",
    "        \"min_rows\": [1,2]\n",
    "    }\n",
    ")\n",
    "g.train(x, y, train)\n",
    "# This shows that min_rows 1 is always better than 2\n",
    "# max depth is identical regardless"
   ]
  },
  {
   "cell_type": "markdown",
   "metadata": {
    "deletable": true,
    "editable": true
   },
   "source": [
    "The following shows that:\n",
    "* min_rows 1 is always better than 2\n",
    "* max depth is identical regardless of 40 or 60\n",
    "* more treas is generally better, but not always\n"
   ]
  },
  {
   "cell_type": "code",
   "execution_count": 103,
   "metadata": {
    "collapsed": false,
    "deletable": true,
    "editable": true
   },
   "outputs": [
    {
     "name": "stdout",
     "output_type": "stream",
     "text": [
      "     max_depth min_rows ntrees  \\\n",
      "0           40      1.0    100   \n",
      "1           60      1.0     50   \n",
      "2           40      1.0    120   \n",
      "3           40      1.0     50   \n",
      "4           60      1.0    120   \n",
      "5           60      1.0    100   \n",
      "6           60      2.0    100   \n",
      "7           60      2.0    120   \n",
      "8           60      2.0     50   \n",
      "9           40      2.0     50   \n",
      "10          40      2.0    120   \n",
      "11          40      2.0    100   \n",
      "\n",
      "                                                        model_ids  \\\n",
      "0    Grid_DRF_py_83_sid_8deb_model_python_1486316361085_1_model_4   \n",
      "1    Grid_DRF_py_83_sid_8deb_model_python_1486316361085_1_model_1   \n",
      "2    Grid_DRF_py_83_sid_8deb_model_python_1486316361085_1_model_8   \n",
      "3    Grid_DRF_py_83_sid_8deb_model_python_1486316361085_1_model_0   \n",
      "4    Grid_DRF_py_83_sid_8deb_model_python_1486316361085_1_model_9   \n",
      "5    Grid_DRF_py_83_sid_8deb_model_python_1486316361085_1_model_5   \n",
      "6    Grid_DRF_py_83_sid_8deb_model_python_1486316361085_1_model_7   \n",
      "7   Grid_DRF_py_83_sid_8deb_model_python_1486316361085_1_model_11   \n",
      "8    Grid_DRF_py_83_sid_8deb_model_python_1486316361085_1_model_3   \n",
      "9    Grid_DRF_py_83_sid_8deb_model_python_1486316361085_1_model_2   \n",
      "10  Grid_DRF_py_83_sid_8deb_model_python_1486316361085_1_model_10   \n",
      "11   Grid_DRF_py_83_sid_8deb_model_python_1486316361085_1_model_6   \n",
      "\n",
      "     residual_deviance  \n",
      "0   3.0492600075543432  \n",
      "1   3.1406232347879985  \n",
      "2   3.1736399864895986  \n",
      "3    3.174674808395408  \n",
      "4   3.1844494867622815  \n",
      "5    3.234906750691192  \n",
      "6   3.2944424210279504  \n",
      "7    3.341655348451709  \n",
      "8   3.3982755732221896  \n",
      "9   3.4305093526230745  \n",
      "10  3.4382416721993674  \n",
      "11  3.4599833205280155  \n"
     ]
    },
    {
     "data": {
      "text/plain": []
     },
     "execution_count": 103,
     "metadata": {},
     "output_type": "execute_result"
    }
   ],
   "source": [
    "g"
   ]
  },
  {
   "cell_type": "markdown",
   "metadata": {
    "deletable": true,
    "editable": true
   },
   "source": [
    "## Random Discrete\n",
    "Use when you have so many hyper parameters that trying all combinations would be too much.  Good params for randomdiscrete:\n",
    "* max_models - try x models and then stop\n",
    "* max_runtime_secs\n",
    "* stopping_metric - AUTO, misclassification, etc.\n",
    "* stopping_tolerance - e.g., .0001 to requre at least .01% improvement to the given metric\n",
    "* stopping_rounds - e.g., if set to 5, if none of the last 5 rounds managed to be better than stopping tolerance, then stop"
   ]
  },
  {
   "cell_type": "code",
   "execution_count": 108,
   "metadata": {
    "collapsed": false
   },
   "outputs": [
    {
     "name": "stdout",
     "output_type": "stream",
     "text": [
      "drf Grid Build progress: |████████████████████████████████████████████████| 100%\n"
     ]
    }
   ],
   "source": [
    "g = h2o.grid.H2OGridSearch(\n",
    "    h2o.estimators.H2ORandomForestEstimator(\n",
    "        nfolds=5,\n",
    "        max_depth=40,\n",
    "        stopping_metric=\"deviance\",\n",
    "        stopping_tolerance=0,\n",
    "        stopping_rounds=4,\n",
    "        score_tree_interval=3\n",
    "    ),\n",
    "    hyper_params={\n",
    "        \"ntrees\": [50, 100, 150, 200, 250],\n",
    "        \"mtries\": [2, 3, 4, 5],\n",
    "        \"sample_rate\": [0.5, 0.632, 0.8, 0.95],\n",
    "        \"col_sample_rate_per_tree\": [0.5, 0.9, 1.0]\n",
    "    },\n",
    "    search_criteria = {\n",
    "        'strategy': \"RandomDiscrete\",\n",
    "        \"stopping_metric\": \"mse\",\n",
    "        \"stopping_tolerance\": .001,\n",
    "        \"stopping_rounds\": 10,\n",
    "        \"max_runtime_secs\": 120\n",
    "    }\n",
    ")\n",
    "g.train(x, y, train)\n",
    "\n"
   ]
  },
  {
   "cell_type": "code",
   "execution_count": 109,
   "metadata": {
    "collapsed": false
   },
   "outputs": [
    {
     "name": "stdout",
     "output_type": "stream",
     "text": [
      "     col_sample_rate_per_tree mtries ntrees sample_rate  \\\n",
      "0                         1.0      3     56       0.632   \n",
      "1                         1.0      3     45         0.5   \n",
      "2                         0.9      2     26        0.95   \n",
      "3                         1.0      5     49         0.5   \n",
      "4                         0.9      5     52         0.8   \n",
      "5                         0.9      3     32       0.632   \n",
      "6                         1.0      2     42       0.632   \n",
      "7                         1.0      5     39       0.632   \n",
      "8                         0.9      5     57       0.632   \n",
      "9                         0.9      2     53         0.8   \n",
      "10                        0.9      2     43         0.5   \n",
      "11                        0.5      5     51         0.5   \n",
      "12                        1.0      5     40        0.95   \n",
      "13                        0.5      3     45       0.632   \n",
      "14                        0.5      4     46         0.8   \n",
      "15                        0.5      5     49       0.632   \n",
      "\n",
      "                                                        model_ids  \\\n",
      "0    Grid_DRF_py_83_sid_8deb_model_python_1486316361085_3_model_3   \n",
      "1   Grid_DRF_py_83_sid_8deb_model_python_1486316361085_3_model_13   \n",
      "2   Grid_DRF_py_83_sid_8deb_model_python_1486316361085_3_model_15   \n",
      "3   Grid_DRF_py_83_sid_8deb_model_python_1486316361085_3_model_11   \n",
      "4    Grid_DRF_py_83_sid_8deb_model_python_1486316361085_3_model_7   \n",
      "5   Grid_DRF_py_83_sid_8deb_model_python_1486316361085_3_model_14   \n",
      "6    Grid_DRF_py_83_sid_8deb_model_python_1486316361085_3_model_4   \n",
      "7    Grid_DRF_py_83_sid_8deb_model_python_1486316361085_3_model_8   \n",
      "8    Grid_DRF_py_83_sid_8deb_model_python_1486316361085_3_model_2   \n",
      "9   Grid_DRF_py_83_sid_8deb_model_python_1486316361085_3_model_10   \n",
      "10   Grid_DRF_py_83_sid_8deb_model_python_1486316361085_3_model_9   \n",
      "11  Grid_DRF_py_83_sid_8deb_model_python_1486316361085_3_model_12   \n",
      "12   Grid_DRF_py_83_sid_8deb_model_python_1486316361085_3_model_5   \n",
      "13   Grid_DRF_py_83_sid_8deb_model_python_1486316361085_3_model_6   \n",
      "14   Grid_DRF_py_83_sid_8deb_model_python_1486316361085_3_model_0   \n",
      "15   Grid_DRF_py_83_sid_8deb_model_python_1486316361085_3_model_1   \n",
      "\n",
      "     residual_deviance  \n",
      "0   2.8161938661074366  \n",
      "1    3.025363343754877  \n",
      "2    3.045717852960837  \n",
      "3   3.0477746303694375  \n",
      "4    3.055072666996906  \n",
      "5   3.0888055082267094  \n",
      "6   3.2022828855048093  \n",
      "7    3.269259297069726  \n",
      "8     3.29773096740894  \n",
      "9    3.375882953124779  \n",
      "10   3.552657523927415  \n",
      "11  3.6403845295224855  \n",
      "12   4.071180190143601  \n",
      "13   4.078279957257426  \n",
      "14  4.0978509795109135  \n",
      "15   4.241564988683161  \n"
     ]
    },
    {
     "data": {
      "text/plain": []
     },
     "execution_count": 109,
     "metadata": {},
     "output_type": "execute_result"
    }
   ],
   "source": [
    "g"
   ]
  },
  {
   "cell_type": "markdown",
   "metadata": {
    "deletable": true,
    "editable": true
   },
   "source": [
    "## Deep Learning Default"
   ]
  },
  {
   "cell_type": "code",
   "execution_count": 105,
   "metadata": {
    "collapsed": false,
    "deletable": true,
    "editable": true
   },
   "outputs": [
    {
     "name": "stdout",
     "output_type": "stream",
     "text": [
      "deeplearning Model Build progress: |██████████████████████████████████████| 100%\n"
     ]
    }
   ],
   "source": [
    "m = h2o.estimators.H2ODeepLearningEstimator(model_id=\"DL_defaults\", nfolds=10)\n",
    "m.train(x, y, train)"
   ]
  },
  {
   "cell_type": "code",
   "execution_count": null,
   "metadata": {
    "collapsed": true,
    "deletable": true,
    "editable": true
   },
   "outputs": [],
   "source": []
  }
 ],
 "metadata": {
  "kernelspec": {
   "display_name": "Python 2",
   "language": "python",
   "name": "python2"
  },
  "language_info": {
   "codemirror_mode": {
    "name": "ipython",
    "version": 2
   },
   "file_extension": ".py",
   "mimetype": "text/x-python",
   "name": "python",
   "nbconvert_exporter": "python",
   "pygments_lexer": "ipython2",
   "version": "2.7.6"
  }
 },
 "nbformat": 4,
 "nbformat_minor": 2
}
